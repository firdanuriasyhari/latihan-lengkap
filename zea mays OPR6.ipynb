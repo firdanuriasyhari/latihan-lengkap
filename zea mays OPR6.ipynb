{
 "cells": [
  {
   "cell_type": "code",
   "execution_count": 1,
   "id": "83eb5281-9213-403f-b3d7-1a4ef93404c7",
   "metadata": {},
   "outputs": [
    {
     "name": "stdout",
     "output_type": "stream",
     "text": [
      "b'<?xml version=\"1.0\" encoding=\"UTF-8\" ?>\\n<!DOCTYPE eInfoResult PUBLIC \"-//NLM//DTD einfo 20190110//EN\" \"https://eutils.ncbi.nlm.nih.gov/eutils/dtd/20190110/einfo.dtd\">\\n<eInfoResult>\\n<DbList>\\n\\n\\t<DbName>pubmed</DbName>\\n\\t<DbName>protein</DbName>\\n\\t<DbName>nuccore</DbName>\\n\\t<DbName>ipg</DbName>\\n\\t<DbName>nucleotide</DbName>\\n\\t<DbName>structure</DbName>\\n\\t<DbName>genome</DbName>\\n\\t<DbName>annotinfo</DbName>\\n\\t<DbName>assembly</DbName>\\n\\t<DbName>bioproject</DbName>\\n\\t<DbName>biosample</DbName>\\n\\t<DbName>blastdbinfo</DbName>\\n\\t<DbName>books</DbName>\\n\\t<DbName>cdd</DbName>\\n\\t<DbName>clinvar</DbName>\\n\\t<DbName>gap</DbName>\\n\\t<DbName>gapplus</DbName>\\n\\t<DbName>grasp</DbName>\\n\\t<DbName>dbvar</DbName>\\n\\t<DbName>gene</DbName>\\n\\t<DbName>gds</DbName>\\n\\t<DbName>geoprofiles</DbName>\\n\\t<DbName>homologene</DbName>\\n\\t<DbName>medgen</DbName>\\n\\t<DbName>mesh</DbName>\\n\\t<DbName>ncbisearch</DbName>\\n\\t<DbName>nlmcatalog</DbName>\\n\\t<DbName>omim</DbName>\\n\\t<DbName>orgtrack</DbName>\\n\\t<DbName>pmc</DbName>\\n\\t<DbName>popset</DbName>\\n\\t<DbName>proteinclusters</DbName>\\n\\t<DbName>pcassay</DbName>\\n\\t<DbName>protfam</DbName>\\n\\t<DbName>biosystems</DbName>\\n\\t<DbName>pccompound</DbName>\\n\\t<DbName>pcsubstance</DbName>\\n\\t<DbName>seqannot</DbName>\\n\\t<DbName>snp</DbName>\\n\\t<DbName>sra</DbName>\\n\\t<DbName>taxonomy</DbName>\\n\\t<DbName>biocollections</DbName>\\n\\t<DbName>gtr</DbName>\\n</DbList>\\n\\n</eInfoResult>\\n'\n"
     ]
    }
   ],
   "source": [
    "from Bio import Entrez\n",
    "\n",
    "Entrez.email = \"localuser@localhost.localdomain\" #Mandatory! Can be replaced with your personal email.\n",
    "\n",
    "#creating handle\n",
    "handle = Entrez.einfo() #invoking Bio.Entrez.einfo()\n",
    "print(handle.read())\n",
    "handle.close() #always close your handle after you finish"
   ]
  },
  {
   "cell_type": "code",
   "execution_count": 2,
   "id": "b18ad6bf-154b-4734-9043-fc92581b3f7e",
   "metadata": {},
   "outputs": [
    {
     "name": "stdout",
     "output_type": "stream",
     "text": [
      "{'Count': '5274945', 'RetMax': '20', 'RetStart': '0', 'IdList': ['2209406898', '2209263425', '2209263418', '2209263411', '2209263407', '2209263405', '2209263404', '2209263402', '2209263400', '2209263399', '2209263397', '2209263391', '2209263387', '2209263385', '2209263373', '2209263371', '2209263369', '2209263367', '2209263359', '2209263357'], 'TranslationSet': [{'From': 'zea mays', 'To': '\"Zea mays\"[Organism] OR zea mays[All Fields]'}], 'TranslationStack': [{'Term': '\"Zea mays\"[Organism]', 'Field': 'Organism', 'Count': '4882057', 'Explode': 'Y'}, {'Term': 'zea mays[All Fields]', 'Field': 'All Fields', 'Count': '5274945', 'Explode': 'N'}, 'OR', 'GROUP'], 'QueryTranslation': '\"Zea mays\"[Organism] OR zea mays[All Fields]'}\n"
     ]
    }
   ],
   "source": [
    "#creating handle\n",
    "\n",
    "handle = Entrez.esearch(db=\"nuccore\", term=\"zea mays\")\n",
    "record = Entrez.read(handle)\n",
    "print(record)\n",
    "handle.close() #always close your handle after you finish"
   ]
  },
  {
   "cell_type": "code",
   "execution_count": 15,
   "id": "e75c1733-02bc-4aa1-bcbd-a784ce0cd4f3",
   "metadata": {},
   "outputs": [
    {
     "name": "stdout",
     "output_type": "stream",
     "text": [
      "{'Count': '3', 'RetMax': '3', 'RetStart': '0', 'IdList': ['1886304062', '162462844', '63021728'], 'TranslationSet': [{'From': 'zea mays', 'To': '\"Zea mays\"[Organism] OR zea mays[All Fields]'}], 'TranslationStack': [{'Term': '\"Zea mays\"[Organism]', 'Field': 'Organism', 'Count': '4882057', 'Explode': 'Y'}, {'Term': 'zea mays[All Fields]', 'Field': 'All Fields', 'Count': '5274945', 'Explode': 'N'}, 'OR', 'GROUP', {'Term': 'OPR6[All Fields]', 'Field': 'All Fields', 'Count': '24', 'Explode': 'N'}, 'AND', 'GROUP'], 'QueryTranslation': '(\"Zea mays\"[Organism] OR zea mays[All Fields]) AND OPR6[All Fields]'}\n"
     ]
    }
   ],
   "source": [
    "#creating handle\n",
    "\n",
    "handle = Entrez.esearch(db=\"nuccore\", term=\"zea mays OPR6\")\n",
    "record = Entrez.read(handle)\n",
    "print(record)\n",
    "handle.close() #always close your handle after you finish"
   ]
  },
  {
   "cell_type": "code",
   "execution_count": 21,
   "id": "246ef0fe-48fb-4417-b4d5-f19aa7744290",
   "metadata": {},
   "outputs": [
    {
     "name": "stdout",
     "output_type": "stream",
     "text": [
      "LOCUS       AY921643                1267 bp    mRNA    linear   PLN 31-OCT-2005\n",
      "DEFINITION  Zea mays 12-oxo-phytodienoic acid reductase (OPR6) mRNA, complete\n",
      "            cds.\n",
      "ACCESSION   AY921643\n",
      "VERSION     AY921643.1\n",
      "KEYWORDS    .\n",
      "SOURCE      Zea mays\n",
      "  ORGANISM  Zea mays\n",
      "            Eukaryota; Viridiplantae; Streptophyta; Embryophyta; Tracheophyta;\n",
      "            Spermatophyta; Magnoliopsida; Liliopsida; Poales; Poaceae; PACMAD\n",
      "            clade; Panicoideae; Andropogonodae; Andropogoneae; Tripsacinae;\n",
      "            Zea.\n",
      "REFERENCE   1  (bases 1 to 1267)\n",
      "  AUTHORS   Zhang,J., Simmons,C., Yalpani,N., Crane,V., Wilkinson,H. and\n",
      "            Kolomiets,M.\n",
      "  TITLE     Genomic analysis of the 12-oxo-phytodienoic acid reductase gene\n",
      "            family of Zea mays\n",
      "  JOURNAL   Plant Mol. Biol. 59 (2), 323-343 (2005)\n",
      "   PUBMED   16247560\n",
      "REFERENCE   2  (bases 1 to 1267)\n",
      "  AUTHORS   Zhang,J., Simmons,C., Navarro,P. and Kolomiets,M.\n",
      "  TITLE     Direct Submission\n",
      "  JOURNAL   Submitted (07-FEB-2005) Plant Pathology and Microbiology, Texas A&M\n",
      "            University, TAMU 2130, College Station, TX 77843, USA\n",
      "FEATURES             Location/Qualifiers\n",
      "     source          1..1267\n",
      "                     /organism=\"Zea mays\"\n",
      "                     /mol_type=\"mRNA\"\n",
      "                     /db_xref=\"taxon:4577\"\n",
      "                     /note=\"inbred line B73\"\n",
      "     gene            1..1267\n",
      "                     /gene=\"OPR6\"\n",
      "                     /note=\"ZmOPR6\"\n",
      "     CDS             39..1157\n",
      "                     /gene=\"OPR6\"\n",
      "                     /codon_start=1\n",
      "                     /product=\"12-oxo-phytodienoic acid reductase\"\n",
      "                     /protein_id=\"AAY26526.1\"\n",
      "                     /translation=\"MEMESTPLLTPYKMGDFNLAHRVVLAPLTRCRAFGNVPQPEHMA\n",
      "                     LYYRQRATPGGFLIAEACAVSESARGYPDVPGLWTHQQVEAWKPIVDAVHASGAVFFA\n",
      "                     QLWHTGRASPSEFQPNGQAPISSTDKQIPAQVNHSGDVNTFAVPRRLETEEIPHVVND\n",
      "                     FRVAARNAIKAGFDGVEIHAANGYLFDQFMKDSTNDRDDSYGGSLENRCRFTAEVMAA\n",
      "                     VADEVGANRLGVRLSPFADYMDCHDSNPEALALHVIDETLNPLGVLYCHMVEPRMRVN\n",
      "                     PDDGIMTLEHMLLPFRRAFRGTFIANGGYDREEGNDAIARGRGYADLIAYGRIFLANP\n",
      "                     DLPMRFAKNAPLNKYDRSTFYTSDPVVGYTDYPFLDQL\"\n",
      "ORIGIN      \n",
      "        1 catctgttta gccaagctgt ggccaacctc tgcgaggaat ggagatggag tcgactcctc\n",
      "       61 tcttgacacc atacaagatg ggcgatttca acctggcaca cagggttgtg ctggcgccgc\n",
      "      121 tgacgaggtg ccgggcgttc gggaacgtgc cgcagccgga gcacatggct ctctactacc\n",
      "      181 gccagcgggc gacgcccggc ggcttcctca tcgccgaggc ctgcgccgtg tcggagagcg\n",
      "      241 cgcgcgggta cccggacgtt ccggggctgt ggacccacca acaggtcgag gcctggaagc\n",
      "      301 cgatcgtcga cgccgtccac gccagcggtg ccgtcttctt cgcccagctc tggcacaccg\n",
      "      361 gccgggcctc cccctcagaa ttccaaccaa atgggcaggc accgatctct agcacggaca\n",
      "      421 agcaaatccc agcacaggtg aaccattccg gtgacgtcaa cacgttcgcg gtgcctcgga\n",
      "      481 gactagagac agaggagata ccacacgtcg tcaatgactt ccgggttgcc gccagaaacg\n",
      "      541 ccatcaaagc aggctttgat ggagtggaga tccacgcggc aaacgggtac ctgttcgatc\n",
      "      601 agttcatgaa ggacagcacc aatgaccgag acgactccta cgggggcagc ttggagaacc\n",
      "      661 ggtgccgttt cacagccgag gtgatggcag ccgtcgcgga cgaggtcggt gccaaccgcc\n",
      "      721 tcggtgtgcg cctctctccg ttcgcggatt atatggactg ccacgactcc aacccagagg\n",
      "      781 cgctcgcgct tcatgtcatc gacgagacgc tgaacccgct cggcgtgctt tactgccaca\n",
      "      841 tggtagagcc aaggatgcgg gtgaacccag acgacggtat tatgactctc gagcacatgc\n",
      "      901 tgctaccgtt caggagggcg tttcgcggga cgttcattgc taatggaggc tacgaccgtg\n",
      "      961 aggaaggcaa tgacgccatt gcccgtggcc gtggctatgc agatctcatc gcatacggcc\n",
      "     1021 ggatattcct tgccaacccg gaccttccga tgcgttttgc caagaatgcc ccgctgaaca\n",
      "     1081 agtatgatag gagcaccttc tatacctctg atccggtggt tgggtacaca gattatccat\n",
      "     1141 ttctcgatca actctaggat gattggctta taaacaattt ccccacctgg agtactattt\n",
      "     1201 tgaccttaaa ataaaatgag tgtcactata aaaaaaaaaa aaaaaaaaaa aaaaaaaaaa\n",
      "     1261 aaaaaaa\n",
      "//\n",
      "\n",
      "\n"
     ]
    }
   ],
   "source": [
    "#creating EFetch handle\n",
    "efetch_handle = Entrez.efetch(db=\"nuccore\", id=\"63021728\", rettype=\"gb\", retmode=\"text\")\n",
    "gbrecord = efetch_handle.read()\n",
    "print(gbrecord)\n",
    "efetch_handle.close() #always close your handle after you finish"
   ]
  },
  {
   "cell_type": "code",
   "execution_count": 22,
   "id": "4c587525-1aa0-48e0-aff8-7aabf0e4abeb",
   "metadata": {},
   "outputs": [
    {
     "name": "stdout",
     "output_type": "stream",
     "text": [
      ">AY921643.1 Zea mays 12-oxo-phytodienoic acid reductase (OPR6) mRNA, complete cds\n",
      "CATCTGTTTAGCCAAGCTGTGGCCAACCTCTGCGAGGAATGGAGATGGAGTCGACTCCTCTCTTGACACC\n",
      "ATACAAGATGGGCGATTTCAACCTGGCACACAGGGTTGTGCTGGCGCCGCTGACGAGGTGCCGGGCGTTC\n",
      "GGGAACGTGCCGCAGCCGGAGCACATGGCTCTCTACTACCGCCAGCGGGCGACGCCCGGCGGCTTCCTCA\n",
      "TCGCCGAGGCCTGCGCCGTGTCGGAGAGCGCGCGCGGGTACCCGGACGTTCCGGGGCTGTGGACCCACCA\n",
      "ACAGGTCGAGGCCTGGAAGCCGATCGTCGACGCCGTCCACGCCAGCGGTGCCGTCTTCTTCGCCCAGCTC\n",
      "TGGCACACCGGCCGGGCCTCCCCCTCAGAATTCCAACCAAATGGGCAGGCACCGATCTCTAGCACGGACA\n",
      "AGCAAATCCCAGCACAGGTGAACCATTCCGGTGACGTCAACACGTTCGCGGTGCCTCGGAGACTAGAGAC\n",
      "AGAGGAGATACCACACGTCGTCAATGACTTCCGGGTTGCCGCCAGAAACGCCATCAAAGCAGGCTTTGAT\n",
      "GGAGTGGAGATCCACGCGGCAAACGGGTACCTGTTCGATCAGTTCATGAAGGACAGCACCAATGACCGAG\n",
      "ACGACTCCTACGGGGGCAGCTTGGAGAACCGGTGCCGTTTCACAGCCGAGGTGATGGCAGCCGTCGCGGA\n",
      "CGAGGTCGGTGCCAACCGCCTCGGTGTGCGCCTCTCTCCGTTCGCGGATTATATGGACTGCCACGACTCC\n",
      "AACCCAGAGGCGCTCGCGCTTCATGTCATCGACGAGACGCTGAACCCGCTCGGCGTGCTTTACTGCCACA\n",
      "TGGTAGAGCCAAGGATGCGGGTGAACCCAGACGACGGTATTATGACTCTCGAGCACATGCTGCTACCGTT\n",
      "CAGGAGGGCGTTTCGCGGGACGTTCATTGCTAATGGAGGCTACGACCGTGAGGAAGGCAATGACGCCATT\n",
      "GCCCGTGGCCGTGGCTATGCAGATCTCATCGCATACGGCCGGATATTCCTTGCCAACCCGGACCTTCCGA\n",
      "TGCGTTTTGCCAAGAATGCCCCGCTGAACAAGTATGATAGGAGCACCTTCTATACCTCTGATCCGGTGGT\n",
      "TGGGTACACAGATTATCCATTTCTCGATCAACTCTAGGATGATTGGCTTATAAACAATTTCCCCACCTGG\n",
      "AGTACTATTTTGACCTTAAAATAAAATGAGTGTCACTATAAAAAAAAAAAAAAAAAAAAAAAAAAAAAAA\n",
      "AAAAAAA\n",
      "\n",
      "\n"
     ]
    }
   ],
   "source": [
    "efetch_handle = Entrez.efetch(db=\"nuccore\", id=\"63021728\", rettype=\"fasta\", retmode=\"text\")\n",
    "gbrecord = efetch_handle.read()\n",
    "print(gbrecord)"
   ]
  },
  {
   "cell_type": "code",
   "execution_count": 5,
   "id": "57db8f96-cbeb-4170-8afa-35bece1d4c42",
   "metadata": {},
   "outputs": [
    {
     "name": "stdout",
     "output_type": "stream",
     "text": [
      "FASTA Download\n"
     ]
    }
   ],
   "source": [
    "import os\n",
    "\n",
    "#creating EFetch handle\n",
    "filename = \"Zea mays OPR6.fasta\" #up to you, but FASTA files always use *.fasta or *.fas\n",
    "\n",
    "#creating EFetch handle\n",
    "if not os.path.isfile(filename):\n",
    "    # Downloading file...\n",
    "    efetch_handle = Entrez.efetch(db=\"nuccore\", id=\"63021728\", rettype=\"fasta\", retmode=\"text\")\n",
    "    output_file_handle = open(filename, \"w\")\n",
    "    output_file_handle.write(efetch_handle.read())\n",
    "    output_file_handle.close()\n",
    "    efetch_handle.close()\n",
    "    print(\"FASTA Download\")"
   ]
  },
  {
   "cell_type": "code",
   "execution_count": 6,
   "id": "5914136f-e54c-42af-a6ac-c4931f6b0625",
   "metadata": {},
   "outputs": [
    {
     "name": "stdout",
     "output_type": "stream",
     "text": [
      "GB Downloaded\n"
     ]
    }
   ],
   "source": [
    "#creating EFetch handle\n",
    "filename = \"Zea mays OPR6.gbk\" #up to you, but Genbank files always use *.gb or *.gbk\n",
    "\n",
    "#creating EFetch handle\n",
    "if not os.path.isfile(filename):\n",
    "    # Downloading file...\n",
    "    efetch_handle = Entrez.efetch(db=\"nuccore\", id=\"63021728\", rettype=\"gb\", retmode=\"text\")\n",
    "    output_file_handle = open(filename, \"w\")\n",
    "    output_file_handle.write(efetch_handle.read())\n",
    "    output_file_handle.close()\n",
    "    efetch_handle.close()\n",
    "    print(\"GB Downloaded\")"
   ]
  },
  {
   "cell_type": "code",
   "execution_count": 9,
   "id": "a431c280-1ec0-4532-affa-041c41a95db2",
   "metadata": {},
   "outputs": [
    {
     "name": "stdout",
     "output_type": "stream",
     "text": [
      ">OPR6|Zea mays 12-oxo-phytodienoic acid reductase (OPR6) mRNA, complete cds\n",
      "ATGGAGATGGAGTCGACTCCTCTCTTGACACCATACAAGATGGGCGATTTCAACCTGGCACACAGGGTTGTGCTGGCGCCGCTGACGAGGTGCCGGGCGTTCGGGAACGTGCCGCAGCCGGAGCACATGGCTCTCTACTACCGCCAGCGGGCGACGCCCGGCGGCTTCCTCATCGCCGAGGCCTGCGCCGTGTCGGAGAGCGCGCGCGGGTACCCGGACGTTCCGGGGCTGTGGACCCACCAACAGGTCGAGGCCTGGAAGCCGATCGTCGACGCCGTCCACGCCAGCGGTGCCGTCTTCTTCGCCCAGCTCTGGCACACCGGCCGGGCCTCCCCCTCAGAATTCCAACCAAATGGGCAGGCACCGATCTCTAGCACGGACAAGCAAATCCCAGCACAGGTGAACCATTCCGGTGACGTCAACACGTTCGCGGTGCCTCGGAGACTAGAGACAGAGGAGATACCACACGTCGTCAATGACTTCCGGGTTGCCGCCAGAAACGCCATCAAAGCAGGCTTTGATGGAGTGGAGATCCACGCGGCAAACGGGTACCTGTTCGATCAGTTCATGAAGGACAGCACCAATGACCGAGACGACTCCTACGGGGGCAGCTTGGAGAACCGGTGCCGTTTCACAGCCGAGGTGATGGCAGCCGTCGCGGACGAGGTCGGTGCCAACCGCCTCGGTGTGCGCCTCTCTCCGTTCGCGGATTATATGGACTGCCACGACTCCAACCCAGAGGCGCTCGCGCTTCATGTCATCGACGAGACGCTGAACCCGCTCGGCGTGCTTTACTGCCACATGGTAGAGCCAAGGATGCGGGTGAACCCAGACGACGGTATTATGACTCTCGAGCACATGCTGCTACCGTTCAGGAGGGCGTTTCGCGGGACGTTCATTGCTAATGGAGGCTACGACCGTGAGGAAGGCAATGACGCCATTGCCCGTGGCCGTGGCTATGCAGATCTCATCGCATACGGCCGGATATTCCTTGCCAACCCGGACCTTCCGATGCGTTTTGCCAAGAATGCCCCGCTGAACAAGTATGATAGGAGCACCTTCTATACCTCTGATCCGGTGGTTGGGTACACAGATTATCCATTTCTCGATCAACTCTAG\n"
     ]
    }
   ],
   "source": [
    "from Bio import SeqIO\n",
    "\n",
    "GoI = \"OPR6\" #change \"OPR6\" here with your GoI\n",
    "\n",
    "for genome in SeqIO.parse(\"Zea mays OPR6.gbk\",\"genbank\"):\n",
    "    for gene in genome.features:\n",
    "        if gene.type != \"CDS\":\n",
    "            continue\n",
    "        if \"gene\" not in gene.qualifiers:\n",
    "            continue\n",
    "        if GoI not in gene.qualifiers[\"gene\"][0]:\n",
    "            continue\n",
    "        gene_seq = gene.extract(genome.seq)\n",
    "\n",
    "GoI_fasta = \">%s|%s\\n%s\" % (GoI, genome.description, gene_seq)\n",
    "print(GoI_fasta)"
   ]
  },
  {
   "cell_type": "code",
   "execution_count": 13,
   "id": "b6c9d2cc-bfc7-48d3-b57f-7df48c04cd3f",
   "metadata": {},
   "outputs": [],
   "source": [
    "from Bio import SeqIO\n",
    "\n",
    "GoI = \"OPR6\" \n",
    "\n",
    "for genome in SeqIO.parse(\"Zea mays OPR6.gbk\",\"genbank\"):\n",
    "    for gene in genome.features:\n",
    "        if gene.type != \"CDS\":\n",
    "            continue\n",
    "        if \"gene\" not in gene.qualifiers:\n",
    "            continue\n",
    "        if GoI not in gene.qualifiers[\"gene\"][0]:\n",
    "            continue\n",
    "    gene_seq = gene.extract(genome.seq)\n",
    "\n",
    "GoI_fasta = \">%s|%s\\n%s\" % (GoI, genome.description, gene_seq)\n",
    "with open (\"GoI fasta.fasta\",\"w\") as f:\n",
    "    f.write(GoI_fasta)"
   ]
  },
  {
   "cell_type": "code",
   "execution_count": null,
   "id": "cf92a8bd-c848-4b4e-8b9c-ad8586943af5",
   "metadata": {},
   "outputs": [],
   "source": []
  }
 ],
 "metadata": {
  "kernelspec": {
   "display_name": "Python 3 (ipykernel)",
   "language": "python",
   "name": "python3"
  },
  "language_info": {
   "codemirror_mode": {
    "name": "ipython",
    "version": 3
   },
   "file_extension": ".py",
   "mimetype": "text/x-python",
   "name": "python",
   "nbconvert_exporter": "python",
   "pygments_lexer": "ipython3",
   "version": "3.9.7"
  }
 },
 "nbformat": 4,
 "nbformat_minor": 5
}
